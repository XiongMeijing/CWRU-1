{
 "cells": [
  {
   "cell_type": "markdown",
   "metadata": {},
   "source": [
    "# Introduction\n",
    "This notebook shows the study of the [CWRU Bearing Dataset](https://csegroups.case.edu/bearingdatacenter/home), which contains data of normal and fault bearings. Artificial defects of different diameters (0.007 ~ 0.028 Inches) are manufactured at different locations of the bearings: inner raceway(IR), outer raceway(OR) and ball(B) defects. \n",
    "\n",
    "Vibration data was recorded for motor loads of 0 to 3 hp (motor speed of 1797 to 1720 RPM) using accelerometers at the drive end (DE) and fan end (FE) and the data is stored as Matlab files. The sampling rate is 12 kHz and each Matlab file contains between ~120k to ~240k sample points. For more information please refer to the [website](https://csegroups.case.edu/bearingdatacenter/home).\n",
    "\n",
    "This study focuses on the classification of the drive end bearing defects using only the signal data at **DE**. It is a **multiclass classification** problem. The input is the vibration signal data at DE and the output is the type of defects:\n",
    "- 0 : Normal (N), \n",
    "- 1 : Fault at Ball (B),\n",
    "- 2 : Fault at Inner Raceway (IR), \n",
    "- 3 : Fault at Outer Raceway (OR), \n"
   ]
  },
  {
   "cell_type": "markdown",
   "metadata": {},
   "source": [
    "\n",
    "# Import"
   ]
  },
  {
   "cell_type": "code",
   "execution_count": 1,
   "metadata": {
    "code_folding": []
   },
   "outputs": [],
   "source": [
    "# Data science libraries\n",
    "import scipy.io\n",
    "import matplotlib.pyplot as plt\n",
    "import numpy as np\n",
    "import pandas as pd\n",
    "from sklearn.model_selection import train_test_split\n",
    "\n",
    "# Pytorch\n",
    "import torch\n",
    "from torch import nn\n",
    "from torch.nn import functional as F\n",
    "from torch import Tensor\n",
    "from torch.utils.data import TensorDataset, DataLoader\n",
    "from torch import optim\n",
    "from torch.nn.modules.loss import CrossEntropyLoss\n",
    "\n",
    "# Others\n",
    "from IPython.core.debugger import set_trace\n",
    "from pathlib import Path\n",
    "\n",
    "from helper import get_df_all\n",
    "from train_helper import get_dataloader, fit, validate \n",
    "import nn_model\n",
    "from one_cycle import OneCycle, update_lr, update_mom"
   ]
  },
  {
   "cell_type": "code",
   "execution_count": 2,
   "metadata": {},
   "outputs": [],
   "source": [
    "working_dir = Path()\n",
    "save_model_path = working_dir / 'Model'\n",
    "normal_path = working_dir / 'Data' / 'Normal'\n",
    "DE_path = working_dir / 'Data' / '12k_DE'"
   ]
  },
  {
   "cell_type": "markdown",
   "metadata": {},
   "source": [
    "# Load Data and Preprocessing"
   ]
  },
  {
   "cell_type": "code",
   "execution_count": 3,
   "metadata": {},
   "outputs": [],
   "source": [
    "df_all = get_df_all(normal_path, DE_path, segment_length=500, normalize=True)\n",
    "features = df_all.columns[2:]\n",
    "target = 'label'"
   ]
  },
  {
   "cell_type": "code",
   "execution_count": 4,
   "metadata": {},
   "outputs": [
    {
     "data": {
      "text/html": [
       "<div>\n",
       "<style scoped>\n",
       "    .dataframe tbody tr th:only-of-type {\n",
       "        vertical-align: middle;\n",
       "    }\n",
       "\n",
       "    .dataframe tbody tr th {\n",
       "        vertical-align: top;\n",
       "    }\n",
       "\n",
       "    .dataframe thead th {\n",
       "        text-align: right;\n",
       "    }\n",
       "</style>\n",
       "<table border=\"1\" class=\"dataframe\">\n",
       "  <thead>\n",
       "    <tr style=\"text-align: right;\">\n",
       "      <th></th>\n",
       "      <th>label</th>\n",
       "      <th>filename</th>\n",
       "      <th>0</th>\n",
       "      <th>1</th>\n",
       "      <th>2</th>\n",
       "      <th>3</th>\n",
       "      <th>4</th>\n",
       "      <th>5</th>\n",
       "      <th>6</th>\n",
       "      <th>7</th>\n",
       "      <th>...</th>\n",
       "      <th>490</th>\n",
       "      <th>491</th>\n",
       "      <th>492</th>\n",
       "      <th>493</th>\n",
       "      <th>494</th>\n",
       "      <th>495</th>\n",
       "      <th>496</th>\n",
       "      <th>497</th>\n",
       "      <th>498</th>\n",
       "      <th>499</th>\n",
       "    </tr>\n",
       "  </thead>\n",
       "  <tbody>\n",
       "    <tr>\n",
       "      <th>8182</th>\n",
       "      <td>2</td>\n",
       "      <td>IR007_3.mat</td>\n",
       "      <td>-0.269393</td>\n",
       "      <td>-0.098966</td>\n",
       "      <td>-0.128493</td>\n",
       "      <td>0.007745</td>\n",
       "      <td>-0.017119</td>\n",
       "      <td>-0.293222</td>\n",
       "      <td>-0.377141</td>\n",
       "      <td>-0.079799</td>\n",
       "      <td>...</td>\n",
       "      <td>-0.515451</td>\n",
       "      <td>3.439088</td>\n",
       "      <td>0.406100</td>\n",
       "      <td>-2.650198</td>\n",
       "      <td>0.728307</td>\n",
       "      <td>1.512584</td>\n",
       "      <td>-1.966416</td>\n",
       "      <td>-1.373805</td>\n",
       "      <td>1.266008</td>\n",
       "      <td>0.382790</td>\n",
       "    </tr>\n",
       "    <tr>\n",
       "      <th>14925</th>\n",
       "      <td>3</td>\n",
       "      <td>OR014@6_3.mat</td>\n",
       "      <td>0.823519</td>\n",
       "      <td>-0.716708</td>\n",
       "      <td>0.214632</td>\n",
       "      <td>1.260031</td>\n",
       "      <td>0.191906</td>\n",
       "      <td>-1.079896</td>\n",
       "      <td>0.470622</td>\n",
       "      <td>1.592346</td>\n",
       "      <td>...</td>\n",
       "      <td>0.892984</td>\n",
       "      <td>-1.658768</td>\n",
       "      <td>-1.401491</td>\n",
       "      <td>2.072595</td>\n",
       "      <td>1.258316</td>\n",
       "      <td>-2.861963</td>\n",
       "      <td>1.061071</td>\n",
       "      <td>2.756093</td>\n",
       "      <td>-3.098657</td>\n",
       "      <td>-0.968839</td>\n",
       "    </tr>\n",
       "    <tr>\n",
       "      <th>7776</th>\n",
       "      <td>2</td>\n",
       "      <td>IR007_2.mat</td>\n",
       "      <td>1.773631</td>\n",
       "      <td>0.264136</td>\n",
       "      <td>-0.611296</td>\n",
       "      <td>-1.414588</td>\n",
       "      <td>-0.312977</td>\n",
       "      <td>0.395396</td>\n",
       "      <td>-2.139775</td>\n",
       "      <td>-2.221135</td>\n",
       "      <td>...</td>\n",
       "      <td>0.413295</td>\n",
       "      <td>0.148062</td>\n",
       "      <td>-0.919921</td>\n",
       "      <td>-0.225650</td>\n",
       "      <td>0.871080</td>\n",
       "      <td>0.528284</td>\n",
       "      <td>-0.115001</td>\n",
       "      <td>-0.271754</td>\n",
       "      <td>0.095992</td>\n",
       "      <td>0.632967</td>\n",
       "    </tr>\n",
       "    <tr>\n",
       "      <th>12260</th>\n",
       "      <td>3</td>\n",
       "      <td>OR007@3_0.mat</td>\n",
       "      <td>-0.129688</td>\n",
       "      <td>2.002666</td>\n",
       "      <td>0.799258</td>\n",
       "      <td>-1.904187</td>\n",
       "      <td>-1.672478</td>\n",
       "      <td>1.248953</td>\n",
       "      <td>1.814765</td>\n",
       "      <td>-1.004270</td>\n",
       "      <td>...</td>\n",
       "      <td>0.203360</td>\n",
       "      <td>-1.038578</td>\n",
       "      <td>-0.656443</td>\n",
       "      <td>0.560160</td>\n",
       "      <td>0.681557</td>\n",
       "      <td>-0.245806</td>\n",
       "      <td>-0.596272</td>\n",
       "      <td>0.030766</td>\n",
       "      <td>0.635637</td>\n",
       "      <td>0.422402</td>\n",
       "    </tr>\n",
       "    <tr>\n",
       "      <th>12796</th>\n",
       "      <td>3</td>\n",
       "      <td>OR007@3_2.mat</td>\n",
       "      <td>-1.261498</td>\n",
       "      <td>0.476707</td>\n",
       "      <td>0.984337</td>\n",
       "      <td>-0.135016</td>\n",
       "      <td>-0.651676</td>\n",
       "      <td>-0.265725</td>\n",
       "      <td>0.203404</td>\n",
       "      <td>0.505226</td>\n",
       "      <td>...</td>\n",
       "      <td>-1.037152</td>\n",
       "      <td>0.260441</td>\n",
       "      <td>1.168282</td>\n",
       "      <td>0.144466</td>\n",
       "      <td>-1.094664</td>\n",
       "      <td>-0.730102</td>\n",
       "      <td>0.424898</td>\n",
       "      <td>0.648294</td>\n",
       "      <td>-0.130738</td>\n",
       "      <td>-0.729152</td>\n",
       "    </tr>\n",
       "  </tbody>\n",
       "</table>\n",
       "<p>5 rows × 502 columns</p>\n",
       "</div>"
      ],
      "text/plain": [
       "       label       filename         0         1         2         3         4  \\\n",
       "8182       2    IR007_3.mat -0.269393 -0.098966 -0.128493  0.007745 -0.017119   \n",
       "14925      3  OR014@6_3.mat  0.823519 -0.716708  0.214632  1.260031  0.191906   \n",
       "7776       2    IR007_2.mat  1.773631  0.264136 -0.611296 -1.414588 -0.312977   \n",
       "12260      3  OR007@3_0.mat -0.129688  2.002666  0.799258 -1.904187 -1.672478   \n",
       "12796      3  OR007@3_2.mat -1.261498  0.476707  0.984337 -0.135016 -0.651676   \n",
       "\n",
       "              5         6         7  ...       490       491       492  \\\n",
       "8182  -0.293222 -0.377141 -0.079799  ... -0.515451  3.439088  0.406100   \n",
       "14925 -1.079896  0.470622  1.592346  ...  0.892984 -1.658768 -1.401491   \n",
       "7776   0.395396 -2.139775 -2.221135  ...  0.413295  0.148062 -0.919921   \n",
       "12260  1.248953  1.814765 -1.004270  ...  0.203360 -1.038578 -0.656443   \n",
       "12796 -0.265725  0.203404  0.505226  ... -1.037152  0.260441  1.168282   \n",
       "\n",
       "            493       494       495       496       497       498       499  \n",
       "8182  -2.650198  0.728307  1.512584 -1.966416 -1.373805  1.266008  0.382790  \n",
       "14925  2.072595  1.258316 -2.861963  1.061071  2.756093 -3.098657 -0.968839  \n",
       "7776  -0.225650  0.871080  0.528284 -0.115001 -0.271754  0.095992  0.632967  \n",
       "12260  0.560160  0.681557 -0.245806 -0.596272  0.030766  0.635637  0.422402  \n",
       "12796  0.144466 -1.094664 -0.730102  0.424898  0.648294 -0.130738 -0.729152  \n",
       "\n",
       "[5 rows x 502 columns]"
      ]
     },
     "execution_count": 4,
     "metadata": {},
     "output_type": "execute_result"
    }
   ],
   "source": [
    "df_all.sample(5)"
   ]
  },
  {
   "cell_type": "code",
   "execution_count": 5,
   "metadata": {},
   "outputs": [
    {
     "data": {
      "text/plain": [
       "(17987, 502)"
      ]
     },
     "execution_count": 5,
     "metadata": {},
     "output_type": "execute_result"
    }
   ],
   "source": [
    "df_all.shape"
   ]
  },
  {
   "cell_type": "code",
   "execution_count": 6,
   "metadata": {},
   "outputs": [],
   "source": [
    "X_train, X_valid, y_train, y_valid = train_test_split(df_all[features], \n",
    "                                                      df_all[target], \n",
    "                                                      test_size=0.20, random_state=42, shuffle=True\n",
    "                                                     )"
   ]
  },
  {
   "cell_type": "code",
   "execution_count": 7,
   "metadata": {},
   "outputs": [],
   "source": [
    "bs = 64"
   ]
  },
  {
   "cell_type": "code",
   "execution_count": 8,
   "metadata": {},
   "outputs": [],
   "source": [
    "X_train = torch.tensor(X_train.values, dtype=torch.float32)\n",
    "X_valid = torch.tensor(X_valid.values, dtype=torch.float32)\n",
    "y_train = torch.tensor(y_train.values, dtype=torch.long)\n",
    "y_valid = torch.tensor(y_valid.values, dtype=torch.long)\n",
    "\n",
    "train_ds = TensorDataset(X_train, y_train)\n",
    "valid_ds = TensorDataset(X_valid, y_valid)\n",
    "train_dl, valid_dl = get_dataloader(train_ds, valid_ds, bs)"
   ]
  },
  {
   "cell_type": "markdown",
   "metadata": {},
   "source": [
    "# Training with Adams Optimizer"
   ]
  },
  {
   "cell_type": "code",
   "execution_count": 9,
   "metadata": {},
   "outputs": [],
   "source": [
    "# Set hyperparameters\n",
    "lr = 0.001\n",
    "# bs = 64\n",
    "wd = 1e-5\n",
    "epochs = 10\n",
    "loss_func = CrossEntropyLoss()\n",
    "device = torch.device(\"cuda\") if torch.cuda.is_available() else torch.device(\"cpu\")"
   ]
  },
  {
   "cell_type": "code",
   "execution_count": 10,
   "metadata": {},
   "outputs": [
    {
     "name": "stdout",
     "output_type": "stream",
     "text": [
      "EPOCH \t Train Loss \t Val Loss \t Train Acc \t Val Acc \t\n",
      "0 \t 0.32292 \t 0.35658 \t 0.87289 \t0.86687 \t\n",
      "1 \t 0.16389 \t 0.17825 \t 0.93426 \t0.93163 \t\n",
      "2 \t 0.09013 \t 0.09475 \t 0.97144 \t0.96776 \t\n",
      "3 \t 0.14942 \t 0.16092 \t 0.93891 \t0.92996 \t\n",
      "4 \t 0.11065 \t 0.11995 \t 0.95441 \t0.94580 \t\n",
      "5 \t 0.12524 \t 0.13162 \t 0.95198 \t0.94719 \t\n",
      "6 \t 0.03493 \t 0.03753 \t 0.98812 \t0.98749 \t\n",
      "7 \t 0.03109 \t 0.03695 \t 0.98798 \t0.98583 \t\n",
      "8 \t 0.02031 \t 0.02542 \t 0.99479 \t0.99194 \t\n",
      "9 \t 0.05232 \t 0.06483 \t 0.97818 \t0.97304 \t\n",
      "10 \t 0.02340 \t 0.02882 \t 0.99284 \t0.99055 \t\n",
      "11 \t 0.01215 \t 0.01649 \t 0.99715 \t0.99639 \t\n",
      "12 \t 0.01835 \t 0.02272 \t 0.99437 \t0.99250 \t\n",
      "13 \t 0.02192 \t 0.02977 \t 0.99291 \t0.98666 \t\n",
      "14 \t 0.04360 \t 0.05547 \t 0.98450 \t0.98054 \t\n",
      "15 \t 0.04442 \t 0.05280 \t 0.98304 \t0.98027 \t\n",
      "16 \t 0.02483 \t 0.02559 \t 0.99117 \t0.98999 \t\n",
      "17 \t 0.00531 \t 0.00956 \t 0.99937 \t0.99750 \t\n",
      "18 \t 0.00888 \t 0.01508 \t 0.99805 \t0.99444 \t\n",
      "19 \t 0.01160 \t 0.01409 \t 0.99673 \t0.99639 \t\n",
      "20 \t 0.00488 \t 0.00701 \t 0.99875 \t0.99722 \t\n",
      "21 \t 0.01070 \t 0.01525 \t 0.99653 \t0.99361 \t\n",
      "22 \t 0.00544 \t 0.01073 \t 0.99875 \t0.99778 \t\n",
      "23 \t 0.00887 \t 0.01392 \t 0.99722 \t0.99528 \t\n",
      "24 \t 0.00808 \t 0.01184 \t 0.99701 \t0.99611 \t\n",
      "25 \t 0.01002 \t 0.01082 \t 0.99757 \t0.99666 \t\n",
      "26 \t 0.02924 \t 0.03291 \t 0.98937 \t0.98638 \t\n",
      "27 \t 0.00506 \t 0.00595 \t 0.99854 \t0.99805 \t\n",
      "28 \t 0.00998 \t 0.01444 \t 0.99694 \t0.99416 \t\n",
      "29 \t 0.00635 \t 0.00783 \t 0.99812 \t0.99778 \t\n",
      "30 \t 0.00510 \t 0.00925 \t 0.99896 \t0.99666 \t\n",
      "31 \t 0.00202 \t 0.00476 \t 1.00000 \t0.99833 \t\n",
      "32 \t 0.00268 \t 0.00544 \t 0.99944 \t0.99861 \t\n",
      "33 \t 0.00383 \t 0.00993 \t 0.99889 \t0.99694 \t\n",
      "34 \t 0.00259 \t 0.00671 \t 0.99931 \t0.99833 \t\n",
      "35 \t 0.01352 \t 0.01295 \t 0.99611 \t0.99583 \t\n",
      "36 \t 0.01128 \t 0.01356 \t 0.99673 \t0.99500 \t\n",
      "37 \t 0.00987 \t 0.00991 \t 0.99694 \t0.99694 \t\n",
      "38 \t 0.00487 \t 0.00705 \t 0.99833 \t0.99778 \t\n",
      "39 \t 0.00697 \t 0.01210 \t 0.99771 \t0.99528 \t\n",
      "Wall time: 1min 24s\n"
     ]
    }
   ],
   "source": [
    "%%time\n",
    "epochs = 40\n",
    "# Instantiate model, optimizers and train\n",
    "model = nn_model.CNN_1D_2L(len(features))\n",
    "model.to(device)\n",
    "opt = optim.Adam(model.parameters(), lr=lr, betas=(0.99, 0.999), weight_decay=wd)\n",
    "model, metrics = fit(epochs, model, loss_func, opt, train_dl, valid_dl, train_metric=True)"
   ]
  },
  {
   "cell_type": "markdown",
   "metadata": {},
   "source": [
    "# Save trained model"
   ]
  },
  {
   "cell_type": "code",
   "execution_count": 11,
   "metadata": {},
   "outputs": [],
   "source": [
    "torch.save(model.state_dict(), save_model_path / 'model.pth')"
   ]
  },
  {
   "cell_type": "code",
   "execution_count": 12,
   "metadata": {},
   "outputs": [],
   "source": [
    "model2 = nn_model.CNN_1D_2L(len(features))"
   ]
  },
  {
   "cell_type": "code",
   "execution_count": 13,
   "metadata": {},
   "outputs": [
    {
     "data": {
      "text/plain": [
       "CNN_1D_2L(\n",
       "  (layer1): Sequential(\n",
       "    (0): Conv1d(1, 64, kernel_size=(9,), stride=(1,), padding=(4,))\n",
       "    (1): BatchNorm1d(64, eps=1e-05, momentum=0.1, affine=True, track_running_stats=True)\n",
       "    (2): ReLU()\n",
       "    (3): Dropout(p=0.5)\n",
       "    (4): MaxPool1d(kernel_size=2, stride=2, padding=0, dilation=1, ceil_mode=False)\n",
       "  )\n",
       "  (layer2): Sequential(\n",
       "    (0): Conv1d(64, 128, kernel_size=(5,), stride=(1,), padding=(2,))\n",
       "    (1): BatchNorm1d(128, eps=1e-05, momentum=0.1, affine=True, track_running_stats=True)\n",
       "    (2): ReLU()\n",
       "    (3): Dropout(p=0.5)\n",
       "    (4): AvgPool1d(kernel_size=(2,), stride=(2,), padding=(0,))\n",
       "  )\n",
       "  (linear1): Linear(in_features=16000, out_features=4, bias=True)\n",
       ")"
      ]
     },
     "execution_count": 13,
     "metadata": {},
     "output_type": "execute_result"
    }
   ],
   "source": [
    "model2.load_state_dict(torch.load(save_model_path / 'model.pth'))\n",
    "model2.eval()"
   ]
  },
  {
   "cell_type": "code",
   "execution_count": 14,
   "metadata": {},
   "outputs": [
    {
     "name": "stdout",
     "output_type": "stream",
     "text": [
      "(0.012104931890057517, 0.9952751528627015)\n",
      "Wall time: 92.8 ms\n"
     ]
    }
   ],
   "source": [
    "%%time\n",
    "print(validate(model, valid_dl, loss_func))"
   ]
  },
  {
   "cell_type": "code",
   "execution_count": null,
   "metadata": {},
   "outputs": [],
   "source": []
  }
 ],
 "metadata": {
  "kernelspec": {
   "display_name": "Python 3",
   "language": "python",
   "name": "python3"
  },
  "language_info": {
   "codemirror_mode": {
    "name": "ipython",
    "version": 3
   },
   "file_extension": ".py",
   "mimetype": "text/x-python",
   "name": "python",
   "nbconvert_exporter": "python",
   "pygments_lexer": "ipython3",
   "version": "3.7.1"
  }
 },
 "nbformat": 4,
 "nbformat_minor": 2
}
