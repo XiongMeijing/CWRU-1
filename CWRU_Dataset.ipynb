{
 "cells": [
  {
   "cell_type": "markdown",
   "metadata": {},
   "source": [
    "# Introduction\n",
    "This notebook shows the study of the [CWRU Bearing Dataset](https://csegroups.case.edu/bearingdatacenter/home), which contains data of normal and fault bearings. Artificial defects of different diameters (0.007 ~ 0.028 Inches) are manufactured at different locations of the bearings: inner raceway(IR), outer raceway(OR) and ball(B) defects. \n",
    "\n",
    "Experiments were conducted using a 2 hp Reliance Electri motor. Vibration data was recorded for motor loads of 0 to 3 hp (motor speed of 1797 to 1720 RPM) using accelerometers at the drive end (DE) and fan end (FE) and the data is stored as Matlab files. The sampling rate is 12 kHz and each Matlab file contains between ~120k to ~240k sample points. For more information please refer to the [website](https://csegroups.case.edu/bearingdatacenter/home).\n",
    "\n",
    "This study focuses on the classification of the drive end bearing defects using only the signal data at **DE**. It is a **multiclass classification** problem. The input is the vibration signal data at DE and the output is the type of defects, i.e. **Normal, IR, OR, B**."
   ]
  },
  {
   "cell_type": "markdown",
   "metadata": {},
   "source": [
    "\n",
    "# Import and Define Helper Functions"
   ]
  },
  {
   "cell_type": "code",
   "execution_count": 1,
   "metadata": {
    "code_folding": []
   },
   "outputs": [],
   "source": [
    "# Data science libraries\n",
    "import scipy.io\n",
    "import matplotlib.pyplot as plt\n",
    "import numpy as np\n",
    "import pandas as pd\n",
    "from sklearn.model_selection import train_test_split\n",
    "\n",
    "# Pytorch\n",
    "import torch\n",
    "from torch import nn\n",
    "from torch.nn import functional as F\n",
    "from torch import Tensor\n",
    "from torch.utils.data import TensorDataset, DataLoader\n",
    "from torch import optim\n",
    "from torch.nn.modules.loss import CrossEntropyLoss\n",
    "\n",
    "# Others\n",
    "from IPython.core.debugger import set_trace\n",
    "from pathlib import Path\n",
    "\n",
    "from one_cycle import OneCycle, update_lr, update_mom"
   ]
  },
  {
   "cell_type": "code",
   "execution_count": 17,
   "metadata": {},
   "outputs": [],
   "source": [
    "working_dir = Path()\n",
    "save_model_path = working_dir / 'Model'\n",
    "normal_path = working_dir / 'Data' / 'Normal'\n",
    "DE_path = working_dir / 'Data' / '12k_DE'"
   ]
  },
  {
   "cell_type": "code",
   "execution_count": 3,
   "metadata": {
    "code_folding": [
     1,
     20,
     30,
     48,
     63,
     81,
     112,
     121
    ]
   },
   "outputs": [],
   "source": [
    "# Helper functions to read and preprocess data files in Matlab format\n",
    "def matfile_to_dic(folder_path):\n",
    "    '''\n",
    "    Read all the matlab files of the CWRU Bearing Dataset and return a dictionary.\n",
    "    The key of each item is the filename and the value is the data of one matlab file, \n",
    "    which also has key value pairs.\n",
    "    \n",
    "    Parameter:\n",
    "        folder_path: \n",
    "            Path (Path object) of the folder which contains the matlab files.\n",
    "    Return:\n",
    "        output_dic: \n",
    "            Dictionary which contains data of all files in the folder_path.\n",
    "    '''\n",
    "    output_dic = {}\n",
    "    for i, filepath in enumerate(folder_path.glob('*.mat')):\n",
    "        key_name = str(filepath).split('\\\\')[-1]    #strip the folder path and get the filename only.\n",
    "        output_dic[key_name] = scipy.io.loadmat(filepath)\n",
    "    return output_dic\n",
    "\n",
    "def remove_dic_items(dic):\n",
    "    '''\n",
    "    Remove redundant data in the dictionary returned by matfile_to_dic inplace.\n",
    "    '''\n",
    "    # For each file in the dictionary, delete the redundant key-value pairs\n",
    "    for key, values in dic.items():\n",
    "        del values['__header__']\n",
    "        del values['__version__']    \n",
    "        del values['__globals__']\n",
    "        \n",
    "def rename_keys(dic):\n",
    "    '''\n",
    "    Rename some keys so that they can be loaded into a \n",
    "    DataFrame with consistent column names\n",
    "    '''\n",
    "    # For each file in the dictionary\n",
    "    for k1,v1 in dic.items():\n",
    "        # For each key-value pair, rename the following keys \n",
    "        for k2,v2 in list(v1.items()):\n",
    "            if 'DE_time' in k2:\n",
    "                v1['DE_time'] = v1.pop(k2)\n",
    "            elif 'BA_time' in k2:\n",
    "                v1['BA_time'] = v1.pop(k2)\n",
    "            elif 'FE_time' in k2:\n",
    "                v1['FE_time'] = v1.pop(k2)\n",
    "            elif 'RPM' in k2:\n",
    "                v1['RPM'] = v1.pop(k2)\n",
    "                \n",
    "def label(filename):\n",
    "    '''\n",
    "    Create label for each signal based on the filename.\n",
    "    Usage:\n",
    "        df['label'] = df['filename'].apply(label)\n",
    "    '''\n",
    "    if 'B' in filename:\n",
    "        return 'B'\n",
    "    elif 'IR' in filename:\n",
    "        return 'IR'\n",
    "    elif 'OR' in filename:\n",
    "        return 'OR'\n",
    "    elif 'Normal' in filename:\n",
    "        return 'N'\n",
    "    \n",
    "def matfile_to_df(folder_path):\n",
    "    '''\n",
    "    Read all the matlab files in the folder, preprocess, and return a DataFrame\n",
    "    \n",
    "    Parameter:\n",
    "        folder_path: \n",
    "            Path (Path object) of the folder which contains the matlab files.\n",
    "    Return:\n",
    "        DataFrame with preprocessed data\n",
    "    '''\n",
    "    dic = matfile_to_dic(folder_path)\n",
    "    remove_dic_items(dic)\n",
    "    rename_keys(dic)\n",
    "    df = pd.DataFrame.from_dict(dic).T\n",
    "    df = df.reset_index().rename(mapper={'index':'filename'},axis=1)\n",
    "    df['label'] = df['filename'].apply(label)\n",
    "    return df.drop(['BA_time','FE_time', 'RPM', 'ans'], axis=1, errors='ignore')\n",
    "\n",
    "def divide_signal(df, segment_length):\n",
    "    '''\n",
    "    This function divide the signal into segments, each with a specific number of points as\n",
    "    defined by segment_length. Each segment will be added as an example (a row) in the \n",
    "    returned DataFrame. Thus it increases the number of training examples. The remaining \n",
    "    points which are less than segment_length are discarded.\n",
    "    \n",
    "    Parameter:\n",
    "        df: \n",
    "            DataFrame returned by matfile_to_df()\n",
    "        segment_length: \n",
    "            Number of points per segment.\n",
    "    Return:\n",
    "        DataFrame with segmented signals and their corresponding filename and label\n",
    "    '''\n",
    "    dic = {}\n",
    "    idx = 0\n",
    "    for i in range(df.shape[0]):\n",
    "        n_sample_points = len(df.iloc[i,1])\n",
    "        n_segments = n_sample_points // segment_length\n",
    "        for segment in range(n_segments):\n",
    "            dic[idx] = {\n",
    "                'signal': df.iloc[i,1][segment_length * segment:segment_length * (segment+1)], \n",
    "                'label': df.iloc[i,2],\n",
    "                'filename' : df.iloc[i,0]\n",
    "            }\n",
    "            idx += 1\n",
    "    df_tmp = pd.DataFrame.from_dict(dic,orient='index')\n",
    "    \n",
    "    return pd.concat([df_tmp[['label', 'filename']], pd.DataFrame(np.hstack(df_tmp[\"signal\"].values).T)], axis=1 )\n",
    "\n",
    "def normalize_signal(df):\n",
    "    '''\n",
    "    Normalize the signals in the DataFrame returned by matfile_to_df() by subtracting\n",
    "    the mean and dividing by the standard deviation.\n",
    "    '''\n",
    "    mean = df['DE_time'].apply(np.mean)\n",
    "    std = df['DE_time'].apply(np.std)\n",
    "    df['DE_time'] = (df['DE_time'] - mean) / std\n",
    "\n",
    "def get_df_all(normal_path, DE_path, segment_length=512, normalize=False):\n",
    "    '''\n",
    "    Load, preprocess and return a DataFrame which contains all signals data and\n",
    "    labels and is to be used for model training.\n",
    "    \n",
    "    Parameter:\n",
    "        normal_path: \n",
    "            Path of the folder which contains matlab files of normal bearings\n",
    "        DE_path: \n",
    "            Path of the folder which contains matlab files of DE faulty bearings\n",
    "        segment_length: \n",
    "            Number of points per segment. See divide_signal() function\n",
    "        normalize: \n",
    "            Boolean to perform normalization to the signal data\n",
    "    Return:\n",
    "        df_all: \n",
    "            DataFrame which is ready to be used for model training.\n",
    "    '''\n",
    "    df_Normal = matfile_to_df(normal_path)\n",
    "    df_DE = matfile_to_df(DE_path)\n",
    "\n",
    "    if normalize:\n",
    "        normalize_signal(df_Normal)\n",
    "        normalize_signal(df_DE)\n",
    "    df_normal_processed = divide_signal(df_Normal, segment_length)\n",
    "    df_faulty_processed = divide_signal(df_DE, segment_length)\n",
    "    df_all = pd.concat([df_normal_processed, df_faulty_processed], axis=0, ignore_index=True)\n",
    "    map_label = {'N':0, 'B':1, 'IR':2, 'OR':3}\n",
    "    df_all['label'] = df_all['label'].map(map_label)\n",
    "    return df_all"
   ]
  },
  {
   "cell_type": "code",
   "execution_count": 49,
   "metadata": {
    "code_folding": [
     1,
     39
    ]
   },
   "outputs": [],
   "source": [
    "# Functions for training\n",
    "def get_dataloader(train_ds, valid_ds, bs):\n",
    "    return (\n",
    "        DataLoader(train_ds, batch_size=bs, shuffle=True),\n",
    "        DataLoader(valid_ds, batch_size=bs * 2),\n",
    "    )\n",
    "\n",
    "def loss_batch(model, loss_func, xb, yb, opt=None):\n",
    "    loss = loss_func(model(xb), yb)\n",
    "\n",
    "    if opt is not None:\n",
    "        loss.backward()\n",
    "        opt.step()\n",
    "        opt.zero_grad()\n",
    "\n",
    "    return loss.item(), len(xb)\n",
    "\n",
    "def fit(epochs, model, loss_func, opt, train_dl, valid_dl):\n",
    "    print('EPOCH', '\\t', 'Val Loss', '\\t', 'Accuracy')\n",
    "    train_losses = []\n",
    "    val_losses = []\n",
    "    for epoch in range(epochs):\n",
    "        # Train\n",
    "        model.train()\n",
    "        mean_loss = 0.0\n",
    "        for xb, yb in train_dl:\n",
    "            loss, batch_size = loss_batch(model, loss_func, xb, yb, opt)\n",
    "            mean_loss += loss/batch_size\n",
    "        train_losses.append(mean_loss)\n",
    "        \n",
    "        # Validate\n",
    "        model.eval()\n",
    "        mean_loss = 0.0\n",
    "        predictions = []\n",
    "        with torch.no_grad():\n",
    "            for xb, yb in valid_dl: \n",
    "                loss, batch_size = loss_batch(model, loss_func, xb, yb)\n",
    "                mean_loss += loss/batch_size\n",
    "                predictions.append(torch.argmax(model(xb), dim=1))\n",
    "                \n",
    "        val_losses.append(mean_loss)\n",
    "        predictions = torch.cat(predictions, dim=0).numpy()\n",
    "#             loss = [loss_func(model(xb), yb) for xb, yb in valid_dl]\n",
    "#             loss = torch.stack(loss, dim=0).numpy()\n",
    "#             predictions = [torch.argmax(model(xb), dim=1) for xb, yb in valid_dl]\n",
    "#             predictions = torch.cat(predictions, dim=0).numpy()\n",
    "\n",
    "        accuracy = np.mean((predictions == valid_dl.dataset.tensors[1].numpy()))\n",
    "\n",
    "        print(f'{epoch}: \\t', f'{mean_loss:.05f}', '\\t', f'{accuracy:.05f}')\n",
    "        \n",
    "    return model, train_losses, val_losses\n",
    "\n",
    "def fit_one_cycle(epochs, model, loss_func, opt, train_dl, valid_dl, one_cycle_scheduler):\n",
    "    print('EPOCH', '\\t', 'Val Loss', '\\t', 'Accuracy')\n",
    "    for epoch in range(epochs):\n",
    "        model.train()\n",
    "        for xb, yb in train_dl:\n",
    "            loss_batch(model, loss_func, xb, yb, opt)\n",
    "            lr, mom = onecycle.calc()\n",
    "            update_lr(opt, lr)\n",
    "            update_mom(opt, mom)\n",
    "\n",
    "        model.eval()\n",
    "        with torch.no_grad():\n",
    "            loss = [loss_func(model(xb), yb) for xb, yb in valid_dl]\n",
    "            loss = torch.stack(loss, dim=0).numpy()\n",
    "            predictions = [torch.argmax(model(xb), dim=1) for xb, yb in valid_dl]\n",
    "#             set_trace()\n",
    "            predictions = torch.cat(predictions, dim=0).numpy()\n",
    "#         set_trace()\n",
    "        val_loss = np.mean(loss)\n",
    "        accuracy = np.mean((predictions == valid_dl.dataset.tensors[1].numpy()))\n",
    "\n",
    "        print(f'{epoch}: \\t', f'{val_loss:.05f}', '\\t', f'{accuracy:.05f}')\n",
    "        \n",
    "    return model"
   ]
  },
  {
   "cell_type": "markdown",
   "metadata": {
    "heading_collapsed": true
   },
   "source": [
    "# Preprocess"
   ]
  },
  {
   "cell_type": "code",
   "execution_count": null,
   "metadata": {
    "hidden": true
   },
   "outputs": [],
   "source": [
    "df_Normal = matfile_to_df(normal_path)\n",
    "df_DE = matfile_to_df(DE_path)"
   ]
  },
  {
   "cell_type": "code",
   "execution_count": null,
   "metadata": {
    "hidden": true
   },
   "outputs": [],
   "source": [
    "df_DE.sample(5)"
   ]
  },
  {
   "cell_type": "code",
   "execution_count": null,
   "metadata": {
    "code_folding": [],
    "hidden": true
   },
   "outputs": [],
   "source": [
    "n_plots = 10\n",
    "df_plot = df_DE.sample(n_plots)\n",
    "plt.figure(figsize=(15, 3*n_plots))\n",
    "for i in range(n_plots):\n",
    "    plt.subplot(n_plots, 1, i+1)\n",
    "    plt.plot(df_plot.iloc[i,1])\n",
    "    plt.ylim(-10, 10)\n",
    "    plt.title(df_plot.iloc[i,0])\n",
    "plt.tight_layout()"
   ]
  },
  {
   "cell_type": "code",
   "execution_count": null,
   "metadata": {
    "hidden": true
   },
   "outputs": [],
   "source": [
    "df_all = get_df_all(normal_path, DE_path, segment_length=512, normalize=False); df_all.sample(5)"
   ]
  },
  {
   "cell_type": "markdown",
   "metadata": {
    "heading_collapsed": true
   },
   "source": [
    "# Definition of 1D CNN Models"
   ]
  },
  {
   "cell_type": "code",
   "execution_count": 5,
   "metadata": {
    "hidden": true
   },
   "outputs": [],
   "source": [
    "# 2 Layers CNN\n",
    "class CNN_1D(nn.Module):\n",
    "    def __init__(self, n_in):\n",
    "        super().__init__()\n",
    "        self.n_in = n_in\n",
    "        self.layer1 = nn.Sequential(\n",
    "            nn.Conv1d(1, 64, (9,), stride=1, padding=4),\n",
    "            nn.BatchNorm1d(64),\n",
    "            nn.ReLU(),\n",
    "            nn.Dropout(p=0.5),\n",
    "            nn.MaxPool1d(2,stride=2)\n",
    "        )\n",
    "        \n",
    "        \n",
    "        self.layer2 = nn.Sequential(\n",
    "            nn.Conv1d(64, 128, (5,), stride=1, padding=2),\n",
    "            nn.BatchNorm1d(128),\n",
    "            nn.ReLU(),\n",
    "            nn.Dropout(p=0.5),\n",
    "            nn.AvgPool1d(2,stride=2)\n",
    "        )\n",
    "        \n",
    "        self.linear1 = nn.Linear(self.n_in*128 //4, 4)\n",
    "\n",
    "        \n",
    "    def forward(self, x):\n",
    "        x = x.view(-1, 1, self.n_in)\n",
    "        x = self.layer1(x)\n",
    "        x = self.layer2(x)\n",
    "        x = x.view(-1, self.n_in*128//4)\n",
    "        return self.linear1(x)\n",
    "        "
   ]
  },
  {
   "cell_type": "code",
   "execution_count": null,
   "metadata": {
    "hidden": true
   },
   "outputs": [],
   "source": [
    "# 3 Layers CNN\n",
    "class CNN_1D(nn.Module):\n",
    "    def __init__(self, n_in):\n",
    "        super().__init__()\n",
    "        self.n_in = n_in\n",
    "        self.layer1 = nn.Sequential(\n",
    "            nn.Conv1d(1, 64, (9,), stride=1, padding=4),\n",
    "            nn.BatchNorm1d(64),\n",
    "            nn.ReLU(),\n",
    "            nn.Dropout(p=0.5),\n",
    "            nn.MaxPool1d(2,stride=2)\n",
    "        )\n",
    "        \n",
    "        \n",
    "        self.layer2 = nn.Sequential(\n",
    "            nn.Conv1d(64, 64, (5,), stride=1, padding=2),\n",
    "            nn.BatchNorm1d(64),\n",
    "            nn.ReLU(),\n",
    "            nn.Dropout(p=0.5),\n",
    "            nn.MaxPool1d(2,stride=2)\n",
    "        )\n",
    "        \n",
    "        self.layer3 = nn.Sequential(\n",
    "            nn.Conv1d(64, 128, (5,), stride=1, padding=2),\n",
    "            nn.BatchNorm1d(128),\n",
    "            nn.ReLU(),\n",
    "            nn.Dropout(p=0.5),\n",
    "            nn.MaxPool1d(2,stride=2)\n",
    "        )\n",
    "        \n",
    "        self.linear1 = nn.Linear(self.n_in*128 //8, 4)\n",
    "\n",
    "        \n",
    "    def forward(self, x):\n",
    "        x = x.view(-1, 1, self.n_in)\n",
    "        x = self.layer1(x)\n",
    "        x = self.layer2(x)\n",
    "        x = self.layer3(x)\n",
    "        x = x.view(-1, self.n_in*128//8)\n",
    "        return self.linear1(x)\n",
    "        "
   ]
  },
  {
   "cell_type": "markdown",
   "metadata": {},
   "source": [
    "# Train Test Split"
   ]
  },
  {
   "cell_type": "code",
   "execution_count": 66,
   "metadata": {},
   "outputs": [],
   "source": [
    "df_all = get_df_all(normal_path, DE_path, segment_length=5000, normalize=True)\n",
    "features = df_all.columns[2:]\n",
    "target = 'label'"
   ]
  },
  {
   "cell_type": "code",
   "execution_count": 67,
   "metadata": {},
   "outputs": [],
   "source": [
    "X_train, X_valid, y_train, y_valid = train_test_split(df_all[features], \n",
    "                                                      df_all[target], \n",
    "                                                      test_size=0.20, random_state=42, shuffle=True\n",
    "                                                     )"
   ]
  },
  {
   "cell_type": "code",
   "execution_count": 80,
   "metadata": {},
   "outputs": [],
   "source": [
    "lr = 0.001\n",
    "bs = 64\n",
    "wd = 1e-5\n",
    "epochs = 30\n",
    "loss_func = CrossEntropyLoss()"
   ]
  },
  {
   "cell_type": "code",
   "execution_count": 69,
   "metadata": {},
   "outputs": [],
   "source": [
    "X_train = torch.tensor(X_train.values, dtype=torch.float32)\n",
    "X_valid = torch.tensor(X_valid.values, dtype=torch.float32)\n",
    "y_train = torch.tensor(y_train.values, dtype=torch.long)\n",
    "y_valid = torch.tensor(y_valid.values, dtype=torch.long)\n",
    "\n",
    "train_ds = TensorDataset(X_train, y_train)\n",
    "valid_ds = TensorDataset(X_valid, y_valid)\n",
    "train_dl, valid_dl = get_dataloader(train_ds, valid_ds, bs)"
   ]
  },
  {
   "cell_type": "markdown",
   "metadata": {},
   "source": [
    "# SGD"
   ]
  },
  {
   "cell_type": "code",
   "execution_count": 70,
   "metadata": {},
   "outputs": [
    {
     "name": "stdout",
     "output_type": "stream",
     "text": [
      "EPOCH \t Val Loss \t Accuracy\n",
      "0: \t 0.04723 \t 0.58427\n",
      "1: \t 0.02335 \t 0.51404\n",
      "2: \t 0.02451 \t 0.44663\n",
      "3: \t 0.02342 \t 0.49438\n",
      "4: \t 0.02089 \t 0.65449\n",
      "5: \t 0.05216 \t 0.44101\n",
      "6: \t 0.02240 \t 0.56742\n",
      "7: \t 0.02366 \t 0.62640\n",
      "8: \t 0.02041 \t 0.69101\n",
      "9: \t 0.02006 \t 0.66573\n",
      "Wall time: 10min 23s\n"
     ]
    }
   ],
   "source": [
    "%%time\n",
    "model = CNN_1D(len(features))\n",
    "opt = optim.SGD(model.parameters(), lr=lr, momentum=0.9, weight_decay=wd)\n",
    "# opt = optim.Adam(model.parameters(), lr=lr, betas=(0.9, 0.999), weight_decay=wd)\n",
    "model, train_loss, val_loss = fit(epochs, model, loss_func, opt, train_dl, valid_dl)"
   ]
  },
  {
   "cell_type": "code",
   "execution_count": 73,
   "metadata": {},
   "outputs": [
    {
     "name": "stdout",
     "output_type": "stream",
     "text": [
      "EPOCH \t Val Loss \t Accuracy\n",
      "0: \t 0.01645 \t 0.77809\n",
      "1: \t 0.01668 \t 0.76404\n",
      "2: \t 0.01569 \t 0.77528\n",
      "3: \t 0.01492 \t 0.80056\n",
      "4: \t 0.01741 \t 0.74157\n",
      "5: \t 0.01569 \t 0.77528\n",
      "6: \t 0.01451 \t 0.82865\n",
      "7: \t 0.01626 \t 0.78090\n",
      "8: \t 0.01504 \t 0.81461\n",
      "9: \t 0.01341 \t 0.88483\n"
     ]
    }
   ],
   "source": [
    "opt = optim.SGD(model.parameters(), lr=lr, momentum=0.9, weight_decay=wd)\n",
    "# opt = optim.Adam(model.parameters(), lr=lr, betas=(0.9, 0.999), weight_decay=wd)\n",
    "model, train_loss, val_loss = fit(epochs, model, loss_func, opt, train_dl, valid_dl)"
   ]
  },
  {
   "cell_type": "code",
   "execution_count": 81,
   "metadata": {},
   "outputs": [
    {
     "name": "stdout",
     "output_type": "stream",
     "text": [
      "EPOCH \t Val Loss \t Accuracy\n",
      "0: \t 0.01198 \t 0.87079\n",
      "1: \t 0.01197 \t 0.89045\n",
      "2: \t 0.01199 \t 0.89326\n",
      "3: \t 0.01228 \t 0.89045\n",
      "4: \t 0.01135 \t 0.88483\n",
      "5: \t 0.01221 \t 0.89326\n",
      "6: \t 0.01214 \t 0.89045\n",
      "7: \t 0.01205 \t 0.89326\n",
      "8: \t 0.01189 \t 0.89045\n",
      "9: \t 0.01210 \t 0.88764\n",
      "10: \t 0.01203 \t 0.89888\n",
      "11: \t 0.01165 \t 0.89326\n",
      "12: \t 0.01145 \t 0.88764\n",
      "13: \t 0.01145 \t 0.89326\n",
      "14: \t 0.01182 \t 0.89326\n",
      "15: \t 0.01184 \t 0.89888\n",
      "16: \t 0.01192 \t 0.89607\n",
      "17: \t 0.01187 \t 0.88483\n",
      "18: \t 0.01205 \t 0.89607\n",
      "19: \t 0.01206 \t 0.89607\n",
      "20: \t 0.01119 \t 0.89045\n",
      "21: \t 0.01215 \t 0.89888\n",
      "22: \t 0.01261 \t 0.89888\n",
      "23: \t 0.01194 \t 0.89326\n",
      "24: \t 0.01171 \t 0.89888\n",
      "25: \t 0.01144 \t 0.89326\n",
      "26: \t 0.01167 \t 0.89888\n",
      "27: \t 0.01162 \t 0.89326\n",
      "28: \t 0.01158 \t 0.89888\n",
      "29: \t 0.01132 \t 0.90169\n"
     ]
    }
   ],
   "source": [
    "opt = optim.SGD(model.parameters(), lr=lr, momentum=0.9, weight_decay=wd)\n",
    "# opt = optim.Adam(model.parameters(), lr=lr, betas=(0.9, 0.999), weight_decay=wd)\n",
    "model, train_loss, val_loss = fit(epochs, model, loss_func, opt, train_dl, valid_dl)"
   ]
  },
  {
   "cell_type": "code",
   "execution_count": 82,
   "metadata": {},
   "outputs": [
    {
     "data": {
      "text/plain": [
       "<matplotlib.legend.Legend at 0xb993978>"
      ]
     },
     "execution_count": 82,
     "metadata": {},
     "output_type": "execute_result"
    },
    {
     "data": {
      "image/png": "[encoded data removed]",
      "text/plain": [
       "<Figure size 864x432 with 1 Axes>"
      ]
     },
     "metadata": {
      "needs_background": "light"
     },
     "output_type": "display_data"
    }
   ],
   "source": [
    "plt.figure(figsize=(12,6))\n",
    "plt.plot(range(epochs), train_loss, label='train')\n",
    "plt.plot(range(epochs), val_loss, label='validation')\n",
    "plt.legend()"
   ]
  },
  {
   "cell_type": "code",
   "execution_count": null,
   "metadata": {},
   "outputs": [],
   "source": [
    "%%time\n",
    "model = CNN_1D(1000)\n",
    "# opt = optim.SGD(model.parameters(), lr=lr, momentum=0.9, weight_decay=wd)\n",
    "opt = optim.Adam(model.parameters(), lr=lr, betas=(0.9, 0.999), weight_decay=wd)\n",
    "model = fit2(epochs, model, loss_func, opt, train_dl, valid_dl)"
   ]
  },
  {
   "cell_type": "code",
   "execution_count": null,
   "metadata": {},
   "outputs": [],
   "source": [
    "predictions = []\n",
    "with torch.no_grad():\n",
    "    model.eval()\n",
    "    for xb, _ in valid_dl:\n",
    "        pred = F.softmax(model(xb),dim=1)\n",
    "        prob, pred = torch.max(pred,1)\n",
    "#         print(pred.shape)\n",
    "        predictions.append(pred)\n",
    "        "
   ]
  },
  {
   "cell_type": "code",
   "execution_count": null,
   "metadata": {},
   "outputs": [],
   "source": [
    "np.mean(y_valid.numpy() == torch.cat(predictions, dim=0).numpy())"
   ]
  },
  {
   "cell_type": "code",
   "execution_count": null,
   "metadata": {},
   "outputs": [],
   "source": [
    "print(np.sum(y_valid.numpy() == torch.cat(predictions, dim=0).numpy()))\n",
    "print(len(y_valid))"
   ]
  },
  {
   "cell_type": "code",
   "execution_count": null,
   "metadata": {},
   "outputs": [],
   "source": []
  },
  {
   "cell_type": "markdown",
   "metadata": {
    "heading_collapsed": true
   },
   "source": [
    "# Fit One Cycle"
   ]
  },
  {
   "cell_type": "code",
   "execution_count": 11,
   "metadata": {
    "hidden": true
   },
   "outputs": [],
   "source": [
    "lr = 0.03\n",
    "bs = 64\n",
    "wd = 1e-5\n",
    "epochs = 10\n",
    "loss_func = CrossEntropyLoss()\n",
    "onecycle = OneCycle(int(len(X_train) * epochs / bs), lr, prcnt=10, momentum_vals=(0.95, 0.8))"
   ]
  },
  {
   "cell_type": "code",
   "execution_count": 12,
   "metadata": {
    "hidden": true
   },
   "outputs": [
    {
     "name": "stdout",
     "output_type": "stream",
     "text": [
      "EPOCH \t Val Loss \t Accuracy\n",
      "0: \t 0.35257 \t 0.86881\n",
      "1: \t 0.17340 \t 0.92430\n",
      "2: \t 0.34233 \t 0.89158\n",
      "3: \t 0.12809 \t 0.94195\n",
      "4: \t 0.05744 \t 0.97894\n",
      "5: \t 0.07271 \t 0.97240\n",
      "6: \t 0.03478 \t 0.99032\n",
      "7: \t 0.13289 \t 0.94508\n",
      "8: \t 0.04232 \t 0.98577\n",
      "9: \t 0.03177 \t 0.98947\n",
      "Wall time: 12min 42s\n"
     ]
    }
   ],
   "source": [
    "%%time\n",
    "model = CNN_1D(len(features))\n",
    "opt = optim.SGD(model.parameters(), lr=lr/10, momentum=0.95, weight_decay=wd)\n",
    "# opt = optim.Adam(model.parameters(), lr=lr, betas=(0.9, 0.999), weight_decay=wd)\n",
    "model = fit_one_cycle(epochs, model, loss_func, opt, train_dl, valid_dl, onecycle)"
   ]
  },
  {
   "cell_type": "code",
   "execution_count": null,
   "metadata": {
    "hidden": true
   },
   "outputs": [],
   "source": [
    "%%time\n",
    "model = CNN_1D(len(features))\n",
    "opt = optim.SGD(model.parameters(), lr=lr/10, momentum=0.95, weight_decay=wd)\n",
    "# opt = optim.Adam(model.parameters(), lr=lr, betas=(0.9, 0.999), weight_decay=wd)\n",
    "model = fit_one_cycle(epochs, model, loss_func, opt, train_dl, valid_dl, onecycle)"
   ]
  },
  {
   "cell_type": "code",
   "execution_count": 20,
   "metadata": {
    "hidden": true
   },
   "outputs": [],
   "source": [
    "torch.save(model.state_dict(), save_model_path / 'model.pth')"
   ]
  },
  {
   "cell_type": "code",
   "execution_count": 36,
   "metadata": {
    "hidden": true
   },
   "outputs": [],
   "source": [
    "model2 = CNN_1D(len(features))"
   ]
  },
  {
   "cell_type": "code",
   "execution_count": 34,
   "metadata": {
    "hidden": true
   },
   "outputs": [
    {
     "data": {
      "text/plain": [
       "CNN_1D(\n",
       "  (layer1): Sequential(\n",
       "    (0): Conv1d(1, 64, kernel_size=(9,), stride=(1,), padding=(4,))\n",
       "    (1): BatchNorm1d(64, eps=1e-05, momentum=0.1, affine=True, track_running_stats=True)\n",
       "    (2): ReLU()\n",
       "    (3): Dropout(p=0.5)\n",
       "    (4): MaxPool1d(kernel_size=2, stride=2, padding=0, dilation=1, ceil_mode=False)\n",
       "  )\n",
       "  (layer2): Sequential(\n",
       "    (0): Conv1d(64, 128, kernel_size=(5,), stride=(1,), padding=(2,))\n",
       "    (1): BatchNorm1d(128, eps=1e-05, momentum=0.1, affine=True, track_running_stats=True)\n",
       "    (2): ReLU()\n",
       "    (3): Dropout(p=0.5)\n",
       "    (4): AvgPool1d(kernel_size=(2,), stride=(2,), padding=(0,))\n",
       "  )\n",
       "  (linear1): Linear(in_features=16384, out_features=4, bias=True)\n",
       ")"
      ]
     },
     "execution_count": 34,
     "metadata": {},
     "output_type": "execute_result"
    }
   ],
   "source": [
    "model2.load_state_dict(torch.load(save_model_path / 'model.pth'))\n",
    "model2.eval()"
   ]
  },
  {
   "cell_type": "code",
   "execution_count": 37,
   "metadata": {
    "hidden": true
   },
   "outputs": [
    {
     "name": "stdout",
     "output_type": "stream",
     "text": [
      "Accuracy: 0.26152532726237904\n"
     ]
    }
   ],
   "source": [
    "predictions = []\n",
    "with torch.no_grad():\n",
    "    model2.eval()\n",
    "    for xb, _ in valid_dl:\n",
    "        pred = F.softmax(model2(xb),dim=1)\n",
    "        prob, pred = torch.max(pred,1)\n",
    "#         print(pred.shape)\n",
    "        predictions.append(pred)\n",
    "\n",
    "print(f'Accuracy: {np.mean(y_valid.numpy() == torch.cat(predictions, dim=0).numpy())}')"
   ]
  },
  {
   "cell_type": "code",
   "execution_count": null,
   "metadata": {
    "hidden": true
   },
   "outputs": [],
   "source": []
  }
 ],
 "metadata": {
  "kernelspec": {
   "display_name": "Python 3",
   "language": "python",
   "name": "python3"
  },
  "language_info": {
   "codemirror_mode": {
    "name": "ipython",
    "version": 3
   },
   "file_extension": ".py",
   "mimetype": "text/x-python",
   "name": "python",
   "nbconvert_exporter": "python",
   "pygments_lexer": "ipython3",
   "version": "3.7.1"
  }
 },
 "nbformat": 4,
 "nbformat_minor": 2
}
