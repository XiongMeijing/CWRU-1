{
 "cells": [
  {
   "cell_type": "markdown",
   "metadata": {},
   "source": [
    "# Introduction\n",
    "This notebook shows the study of the [CWRU Bearing Dataset](https://csegroups.case.edu/bearingdatacenter/home), which contains data of normal and fault bearings. Artificial defects of different diameters (0.007 ~ 0.028 Inches) are manufactured at different locations of the bearings: inner raceway(IR), outer raceway(OR) and ball(B) defects. \n",
    "\n",
    "Experiments were conducted using a 2 hp Reliance Electri motor. Vibration data was recorded for motor loads of 0 to 3 hp (motor speed of 1797 to 1720 RPM) using accelerometers at the drive end (DE) and fan end (FE) and the data is stored as Matlab files. The sampling rate is 12 kHz and each Matlab file contains between ~120k to ~240k sample points. For more information please refer to the [website](https://csegroups.case.edu/bearingdatacenter/home).\n",
    "\n",
    "This study focuses on the classification of the drive end bearing defects using only the signal data at **DE**. It is a **multiclass classification** problem. The input is the vibration signal data at DE and the output is the type of defects, i.e. **Normal, IR, OR, B**."
   ]
  },
  {
   "cell_type": "markdown",
   "metadata": {},
   "source": [
    "\n",
    "# Import and Define Helper Functions"
   ]
  },
  {
   "cell_type": "code",
   "execution_count": 1,
   "metadata": {
    "code_folding": []
   },
   "outputs": [],
   "source": [
    "# Data science libraries\n",
    "import scipy.io\n",
    "import matplotlib.pyplot as plt\n",
    "import numpy as np\n",
    "import pandas as pd\n",
    "from sklearn.model_selection import train_test_split\n",
    "\n",
    "# Pytorch\n",
    "import torch\n",
    "from torch import nn\n",
    "from torch.nn import functional as F\n",
    "from torch import Tensor\n",
    "from torch.utils.data import TensorDataset, DataLoader\n",
    "from torch import optim\n",
    "from torch.nn.modules.loss import CrossEntropyLoss\n",
    "\n",
    "# Others\n",
    "from IPython.core.debugger import set_trace\n",
    "from pathlib import Path\n",
    "\n",
    "from helper import *\n",
    "from train_helper import *\n",
    "import nn_model\n",
    "from one_cycle import OneCycle, update_lr, update_mom"
   ]
  },
  {
   "cell_type": "code",
   "execution_count": 2,
   "metadata": {},
   "outputs": [],
   "source": [
    "working_dir = Path()\n",
    "save_model_path = working_dir / 'Model'\n",
    "normal_path = working_dir / 'Data' / 'Normal'\n",
    "DE_path = working_dir / 'Data' / '12k_DE'"
   ]
  },
  {
   "cell_type": "markdown",
   "metadata": {},
   "source": [
    "# Train Test Split"
   ]
  },
  {
   "cell_type": "code",
   "execution_count": 3,
   "metadata": {},
   "outputs": [],
   "source": [
    "df_all = get_df_all(normal_path, DE_path, segment_length=500, normalize=True)\n",
    "features = df_all.columns[2:]\n",
    "target = 'label'"
   ]
  },
  {
   "cell_type": "code",
   "execution_count": 9,
   "metadata": {},
   "outputs": [
    {
     "data": {
      "text/plain": [
       "(17987, 502)"
      ]
     },
     "execution_count": 9,
     "metadata": {},
     "output_type": "execute_result"
    }
   ],
   "source": [
    "df_all.shape"
   ]
  },
  {
   "cell_type": "code",
   "execution_count": 20,
   "metadata": {},
   "outputs": [],
   "source": [
    "df_train_val = df_all[(df_all[\"filename\"] != \"OR021@6_3.mat\") & \n",
    "                      (df_all[\"filename\"] != \"Normal_1.mat\")]\n",
    "df_test = df_all[(df_all[\"filename\"] == \"OR021@6_3.mat\") | \n",
    "                 (df_all[\"filename\"] == \"Normal_1.mat\")]"
   ]
  },
  {
   "cell_type": "code",
   "execution_count": 21,
   "metadata": {},
   "outputs": [
    {
     "data": {
      "text/plain": [
       "array(['Normal_0.mat', 'Normal_2.mat', 'Normal_3.mat', 'B007_0.mat',\n",
       "       'B007_1.mat', 'B007_2.mat', 'B007_3.mat', 'B014_0.mat',\n",
       "       'B014_1.mat', 'B014_2.mat', 'B014_3.mat', 'B021_0.mat',\n",
       "       'B021_1.mat', 'B021_2.mat', 'B021_3.mat', 'B028_0.mat',\n",
       "       'B028_1.mat', 'B028_2.mat', 'B028_3.mat', 'IR007_0.mat',\n",
       "       'IR007_1.mat', 'IR007_2.mat', 'IR007_3.mat', 'IR014_0.mat',\n",
       "       'IR014_1.mat', 'IR014_2.mat', 'IR014_3.mat', 'IR021_0.mat',\n",
       "       'IR021_1.mat', 'IR021_2.mat', 'IR021_3.mat', 'IR028_0.mat',\n",
       "       'IR028_1.mat', 'IR028_2.mat', 'IR028_3.mat', 'OR007@12_0.mat',\n",
       "       'OR007@12_1.mat', 'OR007@12_2.mat', 'OR007@12_3.mat',\n",
       "       'OR007@3_0.mat', 'OR007@3_1.mat', 'OR007@3_2.mat', 'OR007@3_3.mat',\n",
       "       'OR007@6_0.mat', 'OR007@6_1.mat', 'OR007@6_2.mat', 'OR007@6_3.mat',\n",
       "       'OR014@6_0.mat', 'OR014@6_1.mat', 'OR014@6_2.mat', 'OR014@6_3.mat',\n",
       "       'OR021@12_0.mat', 'OR021@12_1.mat', 'OR021@12_2.mat',\n",
       "       'OR021@12_3.mat', 'OR021@3_0.mat', 'OR021@3_1.mat',\n",
       "       'OR021@3_2.mat', 'OR021@3_3.mat', 'OR021@6_0.mat', 'OR021@6_1.mat',\n",
       "       'OR021@6_2.mat'], dtype=object)"
      ]
     },
     "execution_count": 21,
     "metadata": {},
     "output_type": "execute_result"
    }
   ],
   "source": [
    "df_train_val[\"filename\"].unique()"
   ]
  },
  {
   "cell_type": "code",
   "execution_count": 23,
   "metadata": {},
   "outputs": [
    {
     "data": {
      "text/plain": [
       "array(['Normal_1.mat', 'OR021@6_3.mat'], dtype=object)"
      ]
     },
     "execution_count": 23,
     "metadata": {},
     "output_type": "execute_result"
    }
   ],
   "source": [
    "df_test[\"filename\"].unique()"
   ]
  },
  {
   "cell_type": "code",
   "execution_count": 25,
   "metadata": {},
   "outputs": [
    {
     "name": "stdout",
     "output_type": "stream",
     "text": [
      "(16777, 502) (1210, 502)\n"
     ]
    }
   ],
   "source": [
    "print(df_train_val.shape, df_test.shape)"
   ]
  },
  {
   "cell_type": "code",
   "execution_count": 6,
   "metadata": {},
   "outputs": [],
   "source": [
    "# subsample_size = len(df_all) // 10\n",
    "# subsample_idx = np.random.permutation(len(df_all))[:subsample_size]\n",
    "# df_all = df_all.iloc[subsample_idx]"
   ]
  },
  {
   "cell_type": "code",
   "execution_count": 26,
   "metadata": {},
   "outputs": [],
   "source": [
    "X_train, X_valid, y_train, y_valid = train_test_split(df_train_val[features], \n",
    "                                                      df_train_val[target], \n",
    "                                                      test_size=0.20, random_state=42, shuffle=True\n",
    "                                                     )"
   ]
  },
  {
   "cell_type": "code",
   "execution_count": 27,
   "metadata": {},
   "outputs": [],
   "source": [
    "bs = 64"
   ]
  },
  {
   "cell_type": "code",
   "execution_count": 28,
   "metadata": {},
   "outputs": [],
   "source": [
    "X_train = torch.tensor(X_train.values, dtype=torch.float32)\n",
    "X_valid = torch.tensor(X_valid.values, dtype=torch.float32)\n",
    "y_train = torch.tensor(y_train.values, dtype=torch.long)\n",
    "y_valid = torch.tensor(y_valid.values, dtype=torch.long)\n",
    "\n",
    "train_ds = TensorDataset(X_train, y_train)\n",
    "valid_ds = TensorDataset(X_valid, y_valid)\n",
    "train_dl, valid_dl = get_dataloader(train_ds, valid_ds, bs)"
   ]
  },
  {
   "cell_type": "code",
   "execution_count": 33,
   "metadata": {},
   "outputs": [],
   "source": [
    "X_test = torch.tensor(df_test[features].values, dtype=torch.float32)\n",
    "y_test = torch.tensor(df_test[target].values, dtype=torch.long)\n",
    "\n",
    "test_ds = TensorDataset(X_test, y_test)\n",
    "test_dl = DataLoader(test_ds, batch_size=bs * 2)"
   ]
  },
  {
   "cell_type": "markdown",
   "metadata": {},
   "source": [
    "# Fit One Cycle"
   ]
  },
  {
   "cell_type": "code",
   "execution_count": 29,
   "metadata": {},
   "outputs": [],
   "source": [
    "# Set hyperparameters\n",
    "lr = 0.01\n",
    "# bs = 64\n",
    "wd = 1e-5\n",
    "epochs = 15\n",
    "loss_func = CrossEntropyLoss()\n",
    "onecycle = OneCycle(int(len(X_train) * epochs / bs), lr, prcnt=10, div=25, momentum_vals=(0.95, 0.8))"
   ]
  },
  {
   "cell_type": "code",
   "execution_count": 30,
   "metadata": {},
   "outputs": [
    {
     "name": "stdout",
     "output_type": "stream",
     "text": [
      "EPOCH \t Train Loss \t Val Loss \t Train Acc \t Val Acc \t\n",
      "0 \t 0.27863 \t 0.29481 \t 0.89621 \t0.89035 \t\n",
      "1 \t 0.38209 \t 0.40847 \t 0.83578 \t0.83731 \t\n",
      "2 \t 0.13392 \t 0.12907 \t 0.95321 \t0.94994 \t\n",
      "3 \t 0.12036 \t 0.12549 \t 0.95261 \t0.94279 \t\n",
      "4 \t 0.25232 \t 0.25327 \t 0.91685 \t0.91508 \t\n",
      "5 \t 0.12703 \t 0.16458 \t 0.94896 \t0.94160 \t\n",
      "6 \t 0.34902 \t 0.37835 \t 0.88801 \t0.88468 \t\n",
      "7 \t 0.03721 \t 0.03845 \t 0.98808 \t0.98391 \t\n",
      "8 \t 0.03011 \t 0.04119 \t 0.98785 \t0.98153 \t\n",
      "9 \t 0.01965 \t 0.02060 \t 0.99359 \t0.99344 \t\n",
      "10 \t 0.02165 \t 0.02812 \t 0.99277 \t0.98808 \t\n",
      "11 \t 0.01327 \t 0.02042 \t 0.99575 \t0.99166 \t\n",
      "12 \t 0.01645 \t 0.02306 \t 0.99501 \t0.99046 \t\n",
      "13 \t 0.02864 \t 0.03481 \t 0.98890 \t0.98749 \t\n",
      "14 \t 0.01708 \t 0.02258 \t 0.99426 \t0.99046 \t\n",
      "Wall time: 20min 47s\n"
     ]
    }
   ],
   "source": [
    "%%time\n",
    "# Instantiate model, optimizers and train\n",
    "model = nn_model.CNN_1D_2L(len(features))\n",
    "# opt = optim.SGD(model.parameters(), lr=lr/10, momentum=0.95, weight_decay=wd)\n",
    "opt = optim.Adam(model.parameters(), lr=lr/10, betas=(0.9, 0.999), weight_decay=wd)\n",
    "model, metrics = fit(epochs, model, loss_func, opt, train_dl, valid_dl, one_cycle=onecycle, train_metric=True)"
   ]
  },
  {
   "cell_type": "code",
   "execution_count": 31,
   "metadata": {},
   "outputs": [
    {
     "data": {
      "text/plain": [
       "<matplotlib.legend.Legend at 0x54d8278>"
      ]
     },
     "execution_count": 31,
     "metadata": {},
     "output_type": "execute_result"
    },
    {
     "data": {
      "image/png": "[encoded data removed]",
      "text/plain": [
       "<Figure size 864x432 with 1 Axes>"
      ]
     },
     "metadata": {
      "needs_background": "light"
     },
     "output_type": "display_data"
    }
   ],
   "source": [
    "plt.figure(figsize=(12,6))\n",
    "plt.plot(range(epochs), metrics[\"train_loss\"], label='train')\n",
    "plt.plot(range(epochs), metrics[\"val_loss\"], label='validation')\n",
    "plt.legend()"
   ]
  },
  {
   "cell_type": "code",
   "execution_count": 32,
   "metadata": {},
   "outputs": [
    {
     "data": {
      "text/plain": [
       "<matplotlib.legend.Legend at 0x5568630>"
      ]
     },
     "execution_count": 32,
     "metadata": {},
     "output_type": "execute_result"
    },
    {
     "data": {
      "image/png": "[encoded data removed]",
      "text/plain": [
       "<Figure size 864x432 with 1 Axes>"
      ]
     },
     "metadata": {
      "needs_background": "light"
     },
     "output_type": "display_data"
    }
   ],
   "source": [
    "plt.figure(figsize=(12,6))\n",
    "plt.plot(range(epochs), metrics[\"train_accuracy\"], label='train')\n",
    "plt.plot(range(epochs), metrics[\"val_accuracy\"], label='validation')\n",
    "plt.legend()"
   ]
  },
  {
   "cell_type": "markdown",
   "metadata": {},
   "source": [
    "# Save trained model"
   ]
  },
  {
   "cell_type": "code",
   "execution_count": 14,
   "metadata": {},
   "outputs": [],
   "source": [
    "torch.save(model.state_dict(), save_model_path / 'model.pth')"
   ]
  },
  {
   "cell_type": "code",
   "execution_count": 16,
   "metadata": {},
   "outputs": [],
   "source": [
    "model2 = nn_model.CNN_1D_2L(len(features))"
   ]
  },
  {
   "cell_type": "code",
   "execution_count": 17,
   "metadata": {},
   "outputs": [
    {
     "data": {
      "text/plain": [
       "CNN_1D_2L(\n",
       "  (layer1): Sequential(\n",
       "    (0): Conv1d(1, 64, kernel_size=(9,), stride=(1,), padding=(4,))\n",
       "    (1): BatchNorm1d(64, eps=1e-05, momentum=0.1, affine=True, track_running_stats=True)\n",
       "    (2): ReLU()\n",
       "    (3): Dropout(p=0.5)\n",
       "    (4): MaxPool1d(kernel_size=2, stride=2, padding=0, dilation=1, ceil_mode=False)\n",
       "  )\n",
       "  (layer2): Sequential(\n",
       "    (0): Conv1d(64, 128, kernel_size=(5,), stride=(1,), padding=(2,))\n",
       "    (1): BatchNorm1d(128, eps=1e-05, momentum=0.1, affine=True, track_running_stats=True)\n",
       "    (2): ReLU()\n",
       "    (3): Dropout(p=0.5)\n",
       "    (4): AvgPool1d(kernel_size=(2,), stride=(2,), padding=(0,))\n",
       "  )\n",
       "  (linear1): Linear(in_features=16000, out_features=4, bias=True)\n",
       ")"
      ]
     },
     "execution_count": 17,
     "metadata": {},
     "output_type": "execute_result"
    }
   ],
   "source": [
    "model2.load_state_dict(torch.load(save_model_path / 'model.pth'))\n",
    "model2.eval()"
   ]
  },
  {
   "cell_type": "code",
   "execution_count": 37,
   "metadata": {},
   "outputs": [
    {
     "name": "stdout",
     "output_type": "stream",
     "text": [
      "(8.118054079542981e-08, 1.0)\n",
      "Wall time: 1.59 s\n"
     ]
    }
   ],
   "source": [
    "%%time\n",
    "print(validate(model, test_dl, loss_func))"
   ]
  },
  {
   "cell_type": "code",
   "execution_count": null,
   "metadata": {},
   "outputs": [],
   "source": []
  }
 ],
 "metadata": {
  "kernelspec": {
   "display_name": "Python 3",
   "language": "python",
   "name": "python3"
  },
  "language_info": {
   "codemirror_mode": {
    "name": "ipython",
    "version": 3
   },
   "file_extension": ".py",
   "mimetype": "text/x-python",
   "name": "python",
   "nbconvert_exporter": "python",
   "pygments_lexer": "ipython3",
   "version": "3.7.1"
  }
 },
 "nbformat": 4,
 "nbformat_minor": 2
}
